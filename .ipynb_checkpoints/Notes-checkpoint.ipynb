{
 "cells": [
  {
   "cell_type": "markdown",
   "id": "e5243975-fbce-4394-9364-b45692dea585",
   "metadata": {},
   "source": [
    "## Topics exploration and considerations:"
   ]
  },
  {
   "cell_type": "markdown",
   "id": "696b3c12-7c41-41bc-bcee-139f7e9ff5a3",
   "metadata": {},
   "source": [
    "Software and web development in 2025 to 2030:  \n",
    "- understand $demand$, market size, economic indicators, location, market saturation, and pricing.\n",
    "- how will the IT market evolve in the period?\n",
    "- how can a starting company or new software impact the market? Will it be used by consumers? Can a competitive advantage be kept?"
   ]
  },
  {
   "cell_type": "markdown",
   "id": "35c0f894-6057-437f-940e-0592f48a9115",
   "metadata": {},
   "source": [
    "Ocean plastic and pollution:  \n",
    "- plastics, microplastics and polluting partecles in oceans and waters.\n",
    "- how do these grow in time? What is the expected growth of pollution?\n",
    "- where are particles concentrated?"
   ]
  },
  {
   "cell_type": "markdown",
   "id": "b5b44f90-a1c8-4f4d-9aa4-67a7d41ab7da",
   "metadata": {},
   "source": [
    "Automobile manufacturing:\n",
    "- overall automobile manufacturing figures.\n",
    "- how does car polution changed? Are newly manufactured cars polluting more? Does the weight and different complexities of a vehicel affect pollution?\n",
    "- what are the correlation between different data?\n",
    "- which vehicles are preffered by different markets?"
   ]
  },
  {
   "cell_type": "markdown",
   "id": "3cde6ef3-b7f0-4876-a18f-7938ef1ea825",
   "metadata": {},
   "source": [
    "Air Quality and pollution:\n",
    "- what is the overall air quality?\n",
    "- where is air data available?\n",
    "- where does air quality improve or worsen less?"
   ]
  },
  {
   "cell_type": "markdown",
   "id": "0a9f8858-71bc-428b-a553-e825b7e65634",
   "metadata": {},
   "source": [
    "#### Earth objects in orbit analysis and prediction:\n",
    "- review objects in Earth orbit.\n",
    "- get artificial and natural objects (multiple datasets).\n",
    "- check object speed, sizes, accelaration, type approach date.\n",
    "- compare datasets from different years and different distances from Earth.\n",
    "  \n",
    "- how does the different years of data compare to each other?\n",
    "- how does the different distances from Earch compare?\n",
    "- what are the most common objects in the above?\n",
    "- how does the objet density change?\n",
    "- how does the dataset change in time?"
   ]
  },
  {
   "cell_type": "code",
   "execution_count": 2,
   "id": "c4eb4717-3d15-4628-9194-5c5d13c582b1",
   "metadata": {},
   "outputs": [],
   "source": [
    "import matplotlib.pyplot as plt\n",
    "import numpy as np\n",
    "import pandas as pd\n",
    "from skimage.io import imread\n",
    "from scipy.ndimage import convolve"
   ]
  },
  {
   "cell_type": "markdown",
   "id": "85b72211-8e65-4486-8f14-e179ab9742ae",
   "metadata": {},
   "source": [
    "##### Object\n",
    "\n",
    "Object primary designatio  n##### \r\n",
    "Close-Approach (CA) Da\n",
    "e\r\n",
    "Date and time (TDB) of closest Earth approach. \"Nominal Date\" is given to appropriate precision. The 3-sigma uncertainty in the time is given in the +/- column in days_hours:minutes format (for example, \"2_15:23\" is 2 days, 15 hours, 23 minutes; \"< 00:01\" is less than 1 minute##### ).\r\n",
    "View CA\r\n",
    "Open the close-approach viewer and render the high-precision trajectory during the close appro##### ach.\r\n",
    "CA Distance Nominal (au)\r\n",
    "The most likely (Nominal) close-approach distance (Earth center to NEO center), in astronomical ##### units.\r\n",
    "CA Distance Minimum (au)\r\n",
    "The minimum possible close-approach distance (Earth center to NEO center), in astronomical units. The minimum possible distance is based on the 3-sigma Earth target-plane error ##### ellipse.\r\n",
    "V relative (km/s)\r\n",
    "Object velocity relative to Earth at close##### -approach.\r\n",
    "V infinity (km/s)\r\n",
    "Object velocity relative to a massless Earth at clo##### se-approach.\r\n",
    "H (mag)\r\n",
    "Asteroid absolute magnitude (in general, smaller H implies larger asteroid diameter). Undefin##### ed for comets.\r\n",
    "Diameter\r\n",
    "Diameter value when known or a range (min - max) estimated using the asteroid's absolute magnitude (H) and limiting albedos o##### f 0.25 and 0.05.\r\n",
    "Rarity\r\n",
    "A measure of how infrequent the Earth close approach is for asteroids of the same size and larger: 0 means an average frequency of 100 per year, i.e., roughly every few days or less, 1 corresponds to roughly once a month, 2 to roughly once a year, 3 to roughly once a decade, etc. 'n/a' means that a frequency estimate is not available. See#####  note for details.\r\n",
    "au\r\n",
    "One Astronomical Unit (au) is approximately 150 million kilometers (see gloss##### ary for definition).\r\n",
    "LD\r\n",
    "One Lunar Distance (LD) is approximately 384,000 kilometers (see glossary for definition)."
   ]
  },
  {
   "cell_type": "code",
   "execution_count": 4,
   "id": "b2811d35-dcbf-493f-9ae2-184be7262637",
   "metadata": {},
   "outputs": [
    {
     "data": {
      "text/plain": [
       "0        2023-Aug-01 06:46 ± < 00:01\n",
       "1       2023-Aug-01 12:07 ±    01:39\n",
       "2        2023-Aug-01 17:19 ± < 00:01\n",
       "3        2023-Aug-01 20:49 ± < 00:01\n",
       "4        2023-Aug-02 04:47 ± < 00:01\n",
       "                    ...             \n",
       "3449     2024-Jul-29 22:24 ± 5_00:23\n",
       "3450    2024-Jul-29 23:53 ±    00:02\n",
       "3451    2024-Jul-30 00:46 ±    00:08\n",
       "3452    2024-Jul-30 13:18 ±    00:04\n",
       "3453     2024-Jul-30 14:51 ± < 00:01\n",
       "Name: Close-Approach (CA) Date, Length: 3454, dtype: object"
      ]
     },
     "execution_count": 4,
     "metadata": {},
     "output_type": "execute_result"
    }
   ],
   "source": [
    "data_approaches_1_year_1_au = pd.read_csv('Datasets/NEO Earth Close Approaches_1_year_1_au.csv')\n",
    "# initial test dataset\n",
    "data_approaches_1_year_1_au['Close-Approach (CA) Date']"
   ]
  },
  {
   "cell_type": "code",
   "execution_count": 5,
   "id": "d5242852-4084-4d12-b393-8cc92bed9af9",
   "metadata": {},
   "outputs": [
    {
     "data": {
      "text/plain": [
       "['object',\n",
       " 'close-approach_(ca)_date',\n",
       " 'ca_distancenominal_(au)',\n",
       " 'ca_distanceminimum_(au)',\n",
       " 'v_relative(km/s)',\n",
       " 'v_infinity(km/s)',\n",
       " 'h(mag)',\n",
       " 'diameter',\n",
       " 'rarity']"
      ]
     },
     "execution_count": 5,
     "metadata": {},
     "output_type": "execute_result"
    }
   ],
   "source": [
    "# rename all columns\n",
    "data = data_approaches_1_year_1_au.copy()\n",
    "# show all columns\n",
    "column_names_list = list(data_approaches_1_year_1_au)\n",
    "\n",
    "for column_name in column_names_list:\n",
    "    name = column_name\n",
    "    string = list(column_name.lower())\n",
    "    updated_string = []\n",
    "    \n",
    "    for char in string:\n",
    "        if char == ' ' or char == '.':\n",
    "            updated_string.append('_')\n",
    "        else:\n",
    "            updated_string.append(char)\n",
    "            \n",
    "            \n",
    "    updated_string = \"\".join(updated_string)\n",
    "    # rename columns\n",
    "    data.rename(columns = {name: updated_string, }, inplace = True)\n",
    "\n",
    "list(data)"
   ]
  },
  {
   "cell_type": "code",
   "execution_count": null,
   "id": "14d4583d-6786-4e07-9b87-b3a8d35796a9",
   "metadata": {},
   "outputs": [],
   "source": []
  }
 ],
 "metadata": {
  "kernelspec": {
   "display_name": "Python 3 (ipykernel)",
   "language": "python",
   "name": "python3"
  },
  "language_info": {
   "codemirror_mode": {
    "name": "ipython",
    "version": 3
   },
   "file_extension": ".py",
   "mimetype": "text/x-python",
   "name": "python",
   "nbconvert_exporter": "python",
   "pygments_lexer": "ipython3",
   "version": "3.11.7"
  }
 },
 "nbformat": 4,
 "nbformat_minor": 5
}
