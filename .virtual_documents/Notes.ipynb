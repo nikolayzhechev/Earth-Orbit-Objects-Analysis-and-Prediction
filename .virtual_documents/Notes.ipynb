

















import matplotlib.pyplot as plt
import numpy as np
import pandas as pd
from skimage.io import imread
from scipy.ndimage import convolve





data_approaches_1_year_1_au = pd.read_csv('Datasets/NEO Earth Close Approaches_1_year_1_au.csv')
# initial test dataset
data_approaches_1_year_1_au['Close-Approach (CA) Date']


# rename all columns
data = data_approaches_1_year_1_au.copy()
# show all columns
column_names_list = list(data_approaches_1_year_1_au)

for column_name in column_names_list:
    name = column_name
    string = list(column_name.lower())
    updated_string = []
    
    for char in string:
        if char == ' ' or char == '.':
            updated_string.append('_')
        else:
            updated_string.append(char)
            
            
    updated_string = "".join(updated_string)
    # rename columns
    data.rename(columns = {name: updated_string, }, inplace = True)

list(data)



