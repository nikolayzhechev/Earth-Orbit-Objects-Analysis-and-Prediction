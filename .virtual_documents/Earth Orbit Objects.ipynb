# all imports
import matplotlib.pyplot as plt
import numpy as np
import pandas as pd
import requests
from datetime import datetime

# set the number display format
pd.set_option('display.float_format', '{:,.5f}'.format)





# define params for request
dist_max = '0.1au'
date_min = '2000-01-01'
# get todays date
today = datetime.today().strftime('%Y-%m-%d')

# define request URL with params
url = f'https://ssd-api.jpl.nasa.gov/cad.api?dist-max={dist_max}&date-min={date_min}&date-max={today}&diameter=true&fullname=true'
# execute GET request
response = requests.get(url)
response_data = response.json()

# extract fields
fields = response_data['fields']
data = response_data['data']


# convert to DataFrame
df = pd.DataFrame(data, columns = fields)

# convert to CSV format
csv_data = df.to_csv(index = False)


# save the CSV to a file
df.to_csv('./Datasets/close_approach_data.csv', index = False)











earth_orbit_objects_data = pd.read_csv('./Datasets/close_approach_data.csv')
earth_orbit_objects_data


earth_orbit_objects_data.describe()


earth_orbit_objects_data.info()


# check for null values
df.isnull().sum()


# check unique value counts
df.nunique()





# copy initial data to a new instance
objects_data = df.copy()
objects_data['cd'] = pd.to_datetime(objects_data['cd'], format = '%Y-%b-%d %H:%M')
objects_data.info()


close_approach_time = df['cd']
fullname = df['fullname']

plt.plot(close_approach_time, fullname)
plt.show()



